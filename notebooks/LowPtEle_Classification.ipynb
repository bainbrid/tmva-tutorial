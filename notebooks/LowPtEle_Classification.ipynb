{
 "cells": [
  {
   "cell_type": "markdown",
   "metadata": {},
   "source": [
    "## Declare Factory"
   ]
  },
  {
   "cell_type": "code",
   "execution_count": null,
   "metadata": {},
   "outputs": [],
   "source": [
    "TMVA::Tools::Instance();\n",
    "// output file with lots of interesting stuff \n",
    "auto outputFile = TFile::Open(\"LowPtEle_ClassificationOutput_patrick.root\", \"RECREATE\");\n",
    "TMVA::Factory factory(\"TMVAClassification\",\n",
    "                      outputFile,\n",
    "                      \"!V:ROC:!Silent:Color:!DrawProgressBar:AnalysisType=Classification\");"
   ]
  },
  {
   "cell_type": "markdown",
   "metadata": {},
   "source": [
    "## DataLoader\n",
    "\n",
    "### Define input variables"
   ]
  },
  {
   "cell_type": "code",
   "execution_count": null,
   "metadata": {},
   "outputs": [],
   "source": [
    "TMVA::DataLoader* loader = new TMVA::DataLoader(\"dataset\");\n",
    "\n",
    "// add variables here ...\n",
    "loader->AddVariable(\"abs_Einv_Pinv\");\n",
    "\n",
    "// these variables do not play a role in the training ...\n",
    "loader->AddSpectator(\"pt\",\"pT\",\"GeV\",'F');\n",
    "loader->AddSpectator(\"eta\",\"eta\",\"\",'F');"
   ]
  },
  {
   "cell_type": "markdown",
   "metadata": {},
   "source": [
    "### Setup input Dataset"
   ]
  },
  {
   "cell_type": "code",
   "execution_count": null,
   "metadata": {},
   "outputs": [],
   "source": [
    "// input ntuple\n",
    "TString inputFileName = \"https://bainbrid.web.cern.ch/bainbrid/misc/tree_numEvent10000_patrick.root\";\n",
    "auto inputFile = TFile::Open( inputFileName );\n",
    "\n",
    "// signal and background are in the same tree\n",
    "TTree *sTree = (TTree*)inputFile->Get(\"lowPtEleIDNtuple/LowPtEle\");\n",
    "TTree *bTree = (TTree*)inputFile->Get(\"lowPtEleIDNtuple/LowPtEle\");\n",
    "\n",
    "// we have ~5 times more fakes than real electrons in ntuple but weights are applied not here but below\n",
    "Double_t sWeight = 1.0;\n",
    "Double_t bWeight = 1.0;\n",
    "   \n",
    "// add signal or background trees\n",
    "loader->AddSignalTree(sTree,sWeight);\n",
    "loader->AddBackgroundTree(bTree,bWeight);\n",
    "\n",
    "// weight per electron to give ~same pT/eta distributions \n",
    "loader->SetBackgroundWeightExpression(\"weight\");\n",
    "\n",
    "// these cuts identify which electrons are real or fake \n",
    "TCut mycuts = \"signal>0.5\"; \n",
    "TCut mycutb = \"signal<0.5\"; \n",
    "\n",
    "// define split mode for training and testing (currently 50%/50%)\n",
    "loader->PrepareTrainingAndTestTree(mycuts,\n",
    "                                   mycutb,\n",
    "                                   \"nTrain_Signal=0:nTrain_Background=0:SplitMode=Random:NormMode=NumEvents:!V\" );"
   ]
  },
  {
   "cell_type": "markdown",
   "metadata": {},
   "source": [
    "# Booking Methods"
   ]
  },
  {
   "cell_type": "code",
   "execution_count": null,
   "metadata": {},
   "outputs": [],
   "source": [
    "// Two \"default options\" so we can compare \n",
    "\n",
    "//Boosted Decision Trees\n",
    "factory.BookMethod(loader,TMVA::Types::kBDT, \"BDT\",\n",
    "                   \"!V:NTrees=200:MinNodeSize=2.5%:MaxDepth=2:BoostType=AdaBoost:AdaBoostBeta=0.5:UseBaggedBoost:BaggedSampleFraction=0.5:SeparationType=GiniIndex:nCuts=20\" );\n",
    "\n",
    "//Multi-Layer Perceptron (Neural Network)\n",
    "factory.BookMethod(loader, TMVA::Types::kMLP, \"MLP\",\n",
    "                   \"!H:!V:NeuronType=tanh:VarTransform=N:NCycles=100:HiddenLayers=N+5:TestRate=5:!UseRegulator\" );"
   ]
  },
  {
   "cell_type": "markdown",
   "metadata": {},
   "source": [
    "## Train all methods"
   ]
  },
  {
   "cell_type": "code",
   "execution_count": null,
   "metadata": {},
   "outputs": [],
   "source": [
    "factory.TrainAllMethods();"
   ]
  },
  {
   "cell_type": "markdown",
   "metadata": {},
   "source": [
    "## Test  all methods"
   ]
  },
  {
   "cell_type": "code",
   "execution_count": null,
   "metadata": {},
   "outputs": [],
   "source": [
    "factory.TestAllMethods();  "
   ]
  },
  {
   "cell_type": "markdown",
   "metadata": {},
   "source": [
    "## Evaluate  all methods"
   ]
  },
  {
   "cell_type": "code",
   "execution_count": null,
   "metadata": {},
   "outputs": [],
   "source": [
    "factory.EvaluateAllMethods();  "
   ]
  },
  {
   "cell_type": "markdown",
   "metadata": {},
   "source": [
    "## Plot ROC Curve"
   ]
  },
  {
   "cell_type": "code",
   "execution_count": null,
   "metadata": {},
   "outputs": [],
   "source": [
    "//%jsroot on\n",
    "auto c1 = factory.GetROCCurve(loader);\n",
    "c1->Draw();"
   ]
  },
  {
   "cell_type": "markdown",
   "metadata": {},
   "source": [
    "## Close outputfile to save all output information (evaluation result of methods)"
   ]
  },
  {
   "cell_type": "code",
   "execution_count": null,
   "metadata": {},
   "outputs": [],
   "source": [
    "outputFile->Close();"
   ]
  },
  {
   "cell_type": "code",
   "execution_count": null,
   "metadata": {},
   "outputs": [],
   "source": []
  }
 ],
 "metadata": {
  "kernelspec": {
   "display_name": "ROOT C++",
   "language": "c++",
   "name": "root"
  },
  "language_info": {
   "codemirror_mode": "text/x-c++src",
   "file_extension": ".C",
   "mimetype": " text/x-c++src",
   "name": "c++"
  }
 },
 "nbformat": 4,
 "nbformat_minor": 1
}
